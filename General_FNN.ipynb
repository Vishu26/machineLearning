{
 "cells": [
  {
   "cell_type": "code",
   "execution_count": 92,
   "metadata": {},
   "outputs": [],
   "source": [
    "import numpy as np\n",
    "\n",
    "class FeedForwardNetwork:\n",
    "    \n",
    "    def __init__(self):\n",
    "        self.synapticWeights = []\n",
    "        self.optimizer = None\n",
    "    \n",
    "    def add(self, units, input_shape=None):\n",
    "        if not self.synapticWeights:\n",
    "            if input_shape:\n",
    "                self.synapticWeights.append(np.random.rand(input_shape, units))\n",
    "            return\n",
    "        else:\n",
    "            self.synapticWeights.append(np.random.rand(self.synapticWeights[-1].shape[1], units))\n",
    "    \n",
    "    def compile(self, optimizer='sgd'):\n",
    "        self.optimizer = optimizer\n",
    "    \n",
    "    def sigmoid(self, X, deriv=False):\n",
    "        if not deriv:\n",
    "            return 1/(1+np.exp(-X))\n",
    "        return X*(1-X)\n",
    "    \n",
    "    def fit(self, X, y, batch_size=32,epochs=10, learning_rate=0.1):\n",
    "        \n",
    "        layers = len(self.synapticWeights)\n",
    "        forward = [0]*layers\n",
    "        backward = [0]*layers\n",
    "        if self.optimizer =='momentum':\n",
    "            v = [[0]*layers for i in range(epochs)]\n",
    "        \n",
    "        for k in range(epochs):\n",
    "            for i in range(layers):\n",
    "                if i==0:\n",
    "                    forward[i] = self.sigmoid(X.dot(self.synapticWeights[i]))\n",
    "                else:\n",
    "                    forward[i] = self.sigmoid(forward[i-1].dot(self.synapticWeights[i]))\n",
    "\n",
    "            for i in range(layers-1, -1, -1):\n",
    "\n",
    "                if i==layers-1:\n",
    "                    error = forward[i] - y\n",
    "                    backward[i] = error*self.sigmoid(forward[i], deriv=True)/2\n",
    "                else:\n",
    "                    error = backward[i+1].dot(self.synapticWeights[i+1].T)\n",
    "                    backward[i] = error*self.sigmoid(forward[i], deriv=True)/2\n",
    "            \n",
    "            if self.optimizer == 'sgd':\n",
    "                for i in range(layers):\n",
    "                    if i==0:\n",
    "                        self.synapticWeights[i] = self.synapticWeights[i] - X.T.dot(backward[i]) * learning_rate\n",
    "                    else:\n",
    "                        self.synapticWeights[i] = self.synapticWeights[i] - forward[i-1].T.dot(backward[i]) * learning_rate\n",
    "                        \n",
    "            elif self.optimizer == 'momentum':\n",
    "\n",
    "                for i in range(layers):\n",
    "                    if k==0:\n",
    "                        if i==0:\n",
    "                            v[k][i] = X.T.dot(backward[i]) * learning_rate\n",
    "                            self.synapticWeights[i] = self.synapticWeights[i] - v[k][i]\n",
    "                        else:\n",
    "                            v[k][i] = forward[i-1].T.dot(backward[i]) * learning_rate\n",
    "                            self.synapticWeights[i] = self.synapticWeights[i] - v[k][i]\n",
    "                    else:\n",
    "                        if i==0:\n",
    "                            v[k][i] = 0.99*v[k-1][i] + X.T.dot(backward[i]) * learning_rate\n",
    "                            self.synapticWeights[i] = self.synapticWeights[i] - v[k][i]\n",
    "                        else:\n",
    "                            v[k][i] = 0.99*v[k-1][i] + forward[i-1].T.dot(backward[i]) * learning_rate\n",
    "                            self.synapticWeights[i] = self.synapticWeights[i] - v[k][i]\n",
    "                        \n",
    "    \n",
    "    def predict(self, X):\n",
    "        layers = len(self.synapticWeights)\n",
    "        forward = [0]*layers\n",
    "        for i in range(layers):\n",
    "                if i==0:\n",
    "                    forward[i] = self.sigmoid(np.array(X).dot(self.synapticWeights[i]))\n",
    "                else:\n",
    "                    forward[i] = self.sigmoid(forward[i-1].dot(self.synapticWeights[i]))\n",
    "        return forward[layers-1]\n",
    "    "
   ]
  },
  {
   "cell_type": "code",
   "execution_count": 107,
   "metadata": {},
   "outputs": [],
   "source": [
    "X = np.array([[0, 0], [1, 0], [0, 1], [1,1]])\n",
    "y = np.array([[0], [1], [1], [0]])"
   ]
  },
  {
   "cell_type": "code",
   "execution_count": 116,
   "metadata": {},
   "outputs": [],
   "source": [
    "model = FeedForwardNetwork()\n",
    "model.add(16, input_shape=2)\n",
    "model.add(1)"
   ]
  },
  {
   "cell_type": "code",
   "execution_count": 117,
   "metadata": {},
   "outputs": [],
   "source": [
    "model.compile('sgd')\n",
    "model.fit(X, y,32,50000, 0.1)"
   ]
  },
  {
   "cell_type": "code",
   "execution_count": 118,
   "metadata": {},
   "outputs": [
    {
     "data": {
      "text/plain": [
       "array([[0.04738408],\n",
       "       [0.95122423],\n",
       "       [0.95068052],\n",
       "       [0.05017581]])"
      ]
     },
     "execution_count": 118,
     "metadata": {},
     "output_type": "execute_result"
    }
   ],
   "source": [
    "model.predict([[0, 0], [1, 0], [0, 1], [1,1]])"
   ]
  },
  {
   "cell_type": "code",
   "execution_count": 119,
   "metadata": {},
   "outputs": [],
   "source": [
    "model2 = FeedForwardNetwork()\n",
    "model2.add(16, input_shape=2)\n",
    "model2.add(1)"
   ]
  },
  {
   "cell_type": "code",
   "execution_count": 121,
   "metadata": {},
   "outputs": [],
   "source": [
    "model2.compile('momentum')\n",
    "model2.fit(X, y,32,50000, 0.1)"
   ]
  },
  {
   "cell_type": "code",
   "execution_count": 122,
   "metadata": {},
   "outputs": [
    {
     "data": {
      "text/plain": [
       "array([[0.00240173],\n",
       "       [0.99740965],\n",
       "       [0.9973635 ],\n",
       "       [0.00278563]])"
      ]
     },
     "execution_count": 122,
     "metadata": {},
     "output_type": "execute_result"
    }
   ],
   "source": [
    "model2.predict([[0, 0], [1, 0], [0, 1], [1,1]])"
   ]
  },
  {
   "cell_type": "code",
   "execution_count": null,
   "metadata": {},
   "outputs": [],
   "source": []
  }
 ],
 "metadata": {
  "kernelspec": {
   "display_name": "Python 3",
   "language": "python",
   "name": "python3"
  },
  "language_info": {
   "codemirror_mode": {
    "name": "ipython",
    "version": 3
   },
   "file_extension": ".py",
   "mimetype": "text/x-python",
   "name": "python",
   "nbconvert_exporter": "python",
   "pygments_lexer": "ipython3",
   "version": "3.6.1"
  }
 },
 "nbformat": 4,
 "nbformat_minor": 2
}
