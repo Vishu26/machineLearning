{
 "cells": [
  {
   "cell_type": "code",
   "execution_count": 38,
   "metadata": {},
   "outputs": [
    {
     "name": "stdout",
     "output_type": "stream",
     "text": [
      "   ItemID  Sentiment                                      SentimentText\n",
      "0       1          0                       is so sad for my APL frie...\n",
      "1       2          0                     I missed the New Moon trail...\n",
      "2       3          1                            omg its already 7:30 :O\n",
      "3       4          0            .. Omgaga. Im sooo  im gunna CRy. I'...\n",
      "4       5          0           i think mi bf is cheating on me!!!   ...\n"
     ]
    }
   ],
   "source": [
    "import pandas as pd\n",
    "\n",
    "data = pd.read_csv('datasets/twitter/train.csv', encoding='ISO-8859-1')\n",
    "print(data.head())"
   ]
  },
  {
   "cell_type": "code",
   "execution_count": 39,
   "metadata": {},
   "outputs": [],
   "source": [
    "x_train, y_train = data.SentimentText, data.Sentiment"
   ]
  },
  {
   "cell_type": "code",
   "execution_count": 41,
   "metadata": {},
   "outputs": [],
   "source": [
    "from keras.layers import Dense, Dropout, Embedding\n",
    "from keras.models import Sequential\n",
    "from keras.utils import np_utils\n",
    "from keras.layers.recurrent import GRU\n",
    "from keras.preprocessing.text import Tokenizer\n",
    "from keras.preprocessing.sequence import pad_sequences\n",
    "\n",
    "t = Tokenizer(num_words=10000)\n",
    "t.fit_on_texts(x_train)\n",
    "x_mat = t.texts_to_sequences(x_train)\n",
    "\n",
    "num_words = 10000"
   ]
  },
  {
   "cell_type": "code",
   "execution_count": 43,
   "metadata": {},
   "outputs": [],
   "source": [
    "max_len = max([len(s) for s in x_mat])\n",
    "x_mat = pad_sequences(x_mat, maxlen=max_len)"
   ]
  },
  {
   "cell_type": "code",
   "execution_count": 44,
   "metadata": {},
   "outputs": [],
   "source": [
    "y_train = np_utils.to_categorical(y_train, 2)"
   ]
  },
  {
   "cell_type": "code",
   "execution_count": 49,
   "metadata": {},
   "outputs": [],
   "source": [
    "from keras.layers.advanced_activations import LeakyReLU\n",
    "\n",
    "model = Sequential()\n",
    "model.add(Embedding(num_words, 128, input_length=125))\n",
    "model.add(GRU(256, dropout=0.2))\n",
    "model.add(Dense(2, activation='softmax'))"
   ]
  },
  {
   "cell_type": "code",
   "execution_count": 54,
   "metadata": {},
   "outputs": [],
   "source": [
    "model.compile(loss='binary_crossentropy', optimizer='rmsprop', metrics=['accuracy'])"
   ]
  },
  {
   "cell_type": "code",
   "execution_count": 55,
   "metadata": {},
   "outputs": [
    {
     "name": "stdout",
     "output_type": "stream",
     "text": [
      "_________________________________________________________________\n",
      "Layer (type)                 Output Shape              Param #   \n",
      "=================================================================\n",
      "embedding_6 (Embedding)      (None, 125, 128)          1280000   \n",
      "_________________________________________________________________\n",
      "gru_6 (GRU)                  (None, 256)               295680    \n",
      "_________________________________________________________________\n",
      "dense_4 (Dense)              (None, 2)                 514       \n",
      "=================================================================\n",
      "Total params: 1,576,194\n",
      "Trainable params: 1,576,194\n",
      "Non-trainable params: 0\n",
      "_________________________________________________________________\n"
     ]
    }
   ],
   "source": [
    "model.summary()"
   ]
  },
  {
   "cell_type": "code",
   "execution_count": 56,
   "metadata": {},
   "outputs": [
    {
     "name": "stdout",
     "output_type": "stream",
     "text": [
      "Train on 74991 samples, validate on 24998 samples\n",
      "Epoch 1/10\n",
      "74991/74991 [==============================] - 593s 8ms/step - loss: 0.5384 - acc: 0.7299 - val_loss: 0.4945 - val_acc: 0.7572\n",
      "Epoch 2/10\n",
      "74991/74991 [==============================] - 705s 9ms/step - loss: 0.4631 - acc: 0.7822 - val_loss: 0.4999 - val_acc: 0.7539\n",
      "Epoch 3/10\n",
      "74991/74991 [==============================] - 853s 11ms/step - loss: 0.4374 - acc: 0.7966 - val_loss: 0.4989 - val_acc: 0.7571\n",
      "Epoch 4/10\n",
      "74991/74991 [==============================] - 851s 11ms/step - loss: 0.4203 - acc: 0.8060 - val_loss: 0.4826 - val_acc: 0.7700\n",
      "Epoch 5/10\n",
      "74991/74991 [==============================] - 592s 8ms/step - loss: 0.4058 - acc: 0.8147 - val_loss: 0.4819 - val_acc: 0.7679\n",
      "Epoch 6/10\n",
      "74991/74991 [==============================] - 616s 8ms/step - loss: 0.3913 - acc: 0.8223 - val_loss: 0.4908 - val_acc: 0.7655\n",
      "Epoch 7/10\n",
      "74991/74991 [==============================] - 626s 8ms/step - loss: 0.3785 - acc: 0.8306 - val_loss: 0.4916 - val_acc: 0.7675\n",
      "Epoch 8/10\n",
      "74991/74991 [==============================] - 596s 8ms/step - loss: 0.3637 - acc: 0.8376 - val_loss: 0.5139 - val_acc: 0.7555\n",
      "Epoch 9/10\n",
      "74991/74991 [==============================] - 618s 8ms/step - loss: 0.3519 - acc: 0.8459 - val_loss: 0.5184 - val_acc: 0.7646\n",
      "Epoch 10/10\n",
      "74991/74991 [==============================] - 626s 8ms/step - loss: 0.3391 - acc: 0.8515 - val_loss: 0.5267 - val_acc: 0.7578\n"
     ]
    },
    {
     "data": {
      "text/plain": [
       "<keras.callbacks.History at 0x120a600b8>"
      ]
     },
     "execution_count": 56,
     "metadata": {},
     "output_type": "execute_result"
    }
   ],
   "source": [
    "model.fit(x_mat, y_train, epochs=10, batch_size=1024, validation_split=0.25)"
   ]
  },
  {
   "cell_type": "code",
   "execution_count": 60,
   "metadata": {
    "scrolled": true
   },
   "outputs": [
    {
     "name": "stdout",
     "output_type": "stream",
     "text": [
      "   ItemID                                      SentimentText\n",
      "0       1                       is so sad for my APL frie...\n",
      "1       2                     I missed the New Moon trail...\n",
      "2       3                            omg its already 7:30 :O\n",
      "3       4            .. Omgaga. Im sooo  im gunna CRy. I'...\n",
      "4       5           i think mi bf is cheating on me!!!   ...\n"
     ]
    }
   ],
   "source": [
    "test_data = pd.read_csv('datasets/twitter/test.csv', encoding='ISO-8859-1')\n",
    "print(test_data.head())"
   ]
  },
  {
   "cell_type": "code",
   "execution_count": 61,
   "metadata": {},
   "outputs": [],
   "source": [
    "x_test = test_data.SentimentText"
   ]
  },
  {
   "cell_type": "code",
   "execution_count": 62,
   "metadata": {},
   "outputs": [],
   "source": [
    "t2 = Tokenizer(num_words=10000)\n",
    "t2.fit_on_texts(x_test)\n",
    "x_mat = t2.texts_to_sequences(x_test)\n",
    "\n",
    "num_words = 10000"
   ]
  },
  {
   "cell_type": "code",
   "execution_count": 63,
   "metadata": {},
   "outputs": [],
   "source": [
    "x_mat = pad_sequences(x_mat, maxlen=max_len)"
   ]
  },
  {
   "cell_type": "code",
   "execution_count": 64,
   "metadata": {},
   "outputs": [],
   "source": [
    "pred = model.predict(x_mat)"
   ]
  },
  {
   "cell_type": "code",
   "execution_count": 81,
   "metadata": {},
   "outputs": [
    {
     "data": {
      "text/plain": [
       "299989"
      ]
     },
     "execution_count": 81,
     "metadata": {},
     "output_type": "execute_result"
    }
   ],
   "source": [
    "len(x_test)"
   ]
  },
  {
   "cell_type": "code",
   "execution_count": 68,
   "metadata": {},
   "outputs": [],
   "source": [
    "import numpy as np\n",
    "for i in range(len(pred)):\n",
    "    pred[i] = np.argmax(pred[i])"
   ]
  },
  {
   "cell_type": "code",
   "execution_count": 71,
   "metadata": {},
   "outputs": [],
   "source": [
    "ans = np.zeros((len(pred), 1), dtype=np.int32)\n",
    "for i in range(len(pred)):\n",
    "    ans[i][0] = int(pred[i][0])"
   ]
  },
  {
   "cell_type": "code",
   "execution_count": 74,
   "metadata": {},
   "outputs": [],
   "source": [
    "d = pd.DataFrame(ans)"
   ]
  },
  {
   "cell_type": "code",
   "execution_count": 75,
   "metadata": {},
   "outputs": [],
   "source": [
    "d.column = ['Sentiment']"
   ]
  },
  {
   "cell_type": "code",
   "execution_count": 76,
   "metadata": {},
   "outputs": [],
   "source": [
    "d.to_csv('ans.csv')"
   ]
  },
  {
   "cell_type": "code",
   "execution_count": null,
   "metadata": {},
   "outputs": [],
   "source": []
  }
 ],
 "metadata": {
  "kernelspec": {
   "display_name": "Python 3",
   "language": "python",
   "name": "python3"
  },
  "language_info": {
   "codemirror_mode": {
    "name": "ipython",
    "version": 3
   },
   "file_extension": ".py",
   "mimetype": "text/x-python",
   "name": "python",
   "nbconvert_exporter": "python",
   "pygments_lexer": "ipython3",
   "version": "3.6.1"
  }
 },
 "nbformat": 4,
 "nbformat_minor": 2
}
