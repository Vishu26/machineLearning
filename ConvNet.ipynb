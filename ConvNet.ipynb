{
 "cells": [
  {
   "cell_type": "code",
   "execution_count": 9,
   "metadata": {
    "scrolled": false
   },
   "outputs": [],
   "source": [
    "from keras.datasets import mnist\n",
    "from keras.models import Sequential\n",
    "from keras.layers import Dense, Dropout, Flatten\n",
    "from keras.layers.convolutional import Conv2D, MaxPooling2D\n",
    "from keras.utils import np_utils\n",
    "import numpy as np\n",
    "import h5py\n",
    "\n",
    "np.random.seed(7)\n",
    "\n",
    "(x_train, y_train), (x_test, y_test) = mnist.load_data()"
   ]
  },
  {
   "cell_type": "code",
   "execution_count": 12,
   "metadata": {},
   "outputs": [
    {
     "data": {
      "image/png": "[encoded data removed]",
      "text/plain": [
       "<matplotlib.figure.Figure at 0x11e1b1da0>"
      ]
     },
     "metadata": {},
     "output_type": "display_data"
    }
   ],
   "source": [
    "import matplotlib.pyplot as plt\n",
    "%matplotlib inline\n",
    "\n",
    "plt.imshow(x_train[45], plt.get_cmap('gray'))\n",
    "plt.show()"
   ]
  },
  {
   "cell_type": "code",
   "execution_count": 13,
   "metadata": {},
   "outputs": [
    {
     "data": {
      "text/plain": [
       "9"
      ]
     },
     "execution_count": 13,
     "metadata": {},
     "output_type": "execute_result"
    }
   ],
   "source": [
    "# Result\n",
    "y_train[45]"
   ]
  },
  {
   "cell_type": "code",
   "execution_count": 14,
   "metadata": {},
   "outputs": [],
   "source": [
    "y_train = np_utils.to_categorical(y_train)\n",
    "y_test = np_utils.to_categorical(y_test)\n",
    "\n",
    "\n",
    "x_train = x_train.astype('float32')\n",
    "x_test = x_test.astype('float32')\n",
    "x_train /= 255\n",
    "x_test /= 255\n",
    "x_train = x_train[:, np.newaxis, :, :]\n",
    "x_test = x_test[:, np.newaxis, :, :]"
   ]
  },
  {
   "cell_type": "code",
   "execution_count": 15,
   "metadata": {},
   "outputs": [],
   "source": [
    "def conv(input_shape, classes):\n",
    "    model = Sequential()\n",
    "    model.add(Conv2D(32, (2,2), padding='same', activation='relu', input_shape=input_shape))\n",
    "    model.add(Conv2D(32, (2,2), padding='same', activation='relu'))\n",
    "    model.add(MaxPooling2D(pool_size=(2,2), dim_ordering='th'))\n",
    "    model.add(Dropout(0.25))\n",
    "    model.add(Conv2D(64, (2,2), padding='same', activation='relu'))\n",
    "    model.add(Conv2D(64, (2,2), padding='same', activation='relu'))\n",
    "    model.add(MaxPooling2D(pool_size=(2,2), dim_ordering='th'))\n",
    "    model.add(Dropout(0.25))\n",
    "    model.add(Conv2D(128, (2,2), padding='same', activation='relu'))\n",
    "    model.add(Conv2D(128, (2,2), padding='same', activation='relu'))\n",
    "    model.add(MaxPooling2D(pool_size=(2,2), dim_ordering='th'))\n",
    "    model.add(Dropout(0.25))\n",
    "\n",
    "    model.add(Flatten())\n",
    "    model.add(Dense(512, activation='relu'))\n",
    "    model.add(Dropout(0.4))\n",
    "    model.add(Dense(classes, activation='softmax'))\n",
    "\n",
    "    return model"
   ]
  },
  {
   "cell_type": "code",
   "execution_count": 17,
   "metadata": {},
   "outputs": [
    {
     "name": "stderr",
     "output_type": "stream",
     "text": [
      "/Library/Frameworks/Python.framework/Versions/3.6/lib/python3.6/site-packages/ipykernel_launcher.py:5: UserWarning: Update your `MaxPooling2D` call to the Keras 2 API: `MaxPooling2D(pool_size=(2, 2), data_format=\"channels_first\")`\n",
      "  \"\"\"\n",
      "/Library/Frameworks/Python.framework/Versions/3.6/lib/python3.6/site-packages/ipykernel_launcher.py:9: UserWarning: Update your `MaxPooling2D` call to the Keras 2 API: `MaxPooling2D(pool_size=(2, 2), data_format=\"channels_first\")`\n",
      "  if __name__ == '__main__':\n",
      "/Library/Frameworks/Python.framework/Versions/3.6/lib/python3.6/site-packages/ipykernel_launcher.py:13: UserWarning: Update your `MaxPooling2D` call to the Keras 2 API: `MaxPooling2D(pool_size=(2, 2), data_format=\"channels_first\")`\n",
      "  del sys.path[0]\n"
     ]
    },
    {
     "name": "stdout",
     "output_type": "stream",
     "text": [
      "_________________________________________________________________\n",
      "Layer (type)                 Output Shape              Param #   \n",
      "=================================================================\n",
      "conv2d_31 (Conv2D)           (None, 1, 28, 32)         3616      \n",
      "_________________________________________________________________\n",
      "conv2d_32 (Conv2D)           (None, 1, 28, 32)         4128      \n",
      "_________________________________________________________________\n",
      "max_pooling2d_15 (MaxPooling (None, 1, 14, 16)         0         \n",
      "_________________________________________________________________\n",
      "dropout_17 (Dropout)         (None, 1, 14, 16)         0         \n",
      "_________________________________________________________________\n",
      "conv2d_33 (Conv2D)           (None, 1, 14, 64)         4160      \n",
      "_________________________________________________________________\n",
      "conv2d_34 (Conv2D)           (None, 1, 14, 64)         16448     \n",
      "_________________________________________________________________\n",
      "max_pooling2d_16 (MaxPooling (None, 1, 7, 32)          0         \n",
      "_________________________________________________________________\n",
      "dropout_18 (Dropout)         (None, 1, 7, 32)          0         \n",
      "_________________________________________________________________\n",
      "conv2d_35 (Conv2D)           (None, 1, 7, 128)         16512     \n",
      "_________________________________________________________________\n",
      "conv2d_36 (Conv2D)           (None, 1, 7, 128)         65664     \n",
      "_________________________________________________________________\n",
      "max_pooling2d_17 (MaxPooling (None, 1, 3, 64)          0         \n",
      "_________________________________________________________________\n",
      "dropout_19 (Dropout)         (None, 1, 3, 64)          0         \n",
      "_________________________________________________________________\n",
      "flatten_5 (Flatten)          (None, 192)               0         \n",
      "_________________________________________________________________\n",
      "dense_9 (Dense)              (None, 512)               98816     \n",
      "_________________________________________________________________\n",
      "dropout_20 (Dropout)         (None, 512)               0         \n",
      "_________________________________________________________________\n",
      "dense_10 (Dense)             (None, 10)                5130      \n",
      "=================================================================\n",
      "Total params: 214,474\n",
      "Trainable params: 214,474\n",
      "Non-trainable params: 0\n",
      "_________________________________________________________________\n",
      "Train on 48000 samples, validate on 12000 samples\n",
      "Epoch 1/20\n",
      "48000/48000 [==============================] - 19s 394us/step - loss: 1.4028 - acc: 0.4902 - val_loss: 0.6758 - val_acc: 0.7673\n",
      "Epoch 2/20\n",
      "48000/48000 [==============================] - 17s 346us/step - loss: 0.6064 - acc: 0.7912 - val_loss: 0.2817 - val_acc: 0.9080\n",
      "Epoch 3/20\n",
      "48000/48000 [==============================] - 17s 349us/step - loss: 0.3688 - acc: 0.8837 - val_loss: 0.1971 - val_acc: 0.9409\n",
      "Epoch 4/20\n",
      "48000/48000 [==============================] - 16s 341us/step - loss: 0.2801 - acc: 0.9127 - val_loss: 0.1419 - val_acc: 0.9574\n",
      "Epoch 5/20\n",
      "48000/48000 [==============================] - 17s 350us/step - loss: 0.2321 - acc: 0.9280 - val_loss: 0.1218 - val_acc: 0.9625\n",
      "Epoch 6/20\n",
      "48000/48000 [==============================] - 17s 351us/step - loss: 0.2025 - acc: 0.9363 - val_loss: 0.1128 - val_acc: 0.9652\n",
      "Epoch 7/20\n",
      "48000/48000 [==============================] - 16s 343us/step - loss: 0.1816 - acc: 0.9440 - val_loss: 0.1059 - val_acc: 0.9684\n",
      "Epoch 8/20\n",
      "48000/48000 [==============================] - 17s 345us/step - loss: 0.1652 - acc: 0.9487 - val_loss: 0.0927 - val_acc: 0.9730\n",
      "Epoch 9/20\n",
      "48000/48000 [==============================] - 17s 360us/step - loss: 0.1558 - acc: 0.9515 - val_loss: 0.1002 - val_acc: 0.9688\n",
      "Epoch 10/20\n",
      "48000/48000 [==============================] - 17s 360us/step - loss: 0.1453 - acc: 0.9545 - val_loss: 0.0853 - val_acc: 0.9757\n",
      "Epoch 11/20\n",
      "48000/48000 [==============================] - 16s 339us/step - loss: 0.1404 - acc: 0.9557 - val_loss: 0.0815 - val_acc: 0.9759\n",
      "Epoch 12/20\n",
      "48000/48000 [==============================] - 17s 361us/step - loss: 0.1323 - acc: 0.9577 - val_loss: 0.0786 - val_acc: 0.9760\n",
      "Epoch 13/20\n",
      "48000/48000 [==============================] - 17s 352us/step - loss: 0.1235 - acc: 0.9610 - val_loss: 0.0804 - val_acc: 0.9752\n",
      "Epoch 14/20\n",
      "48000/48000 [==============================] - 17s 351us/step - loss: 0.1178 - acc: 0.9635 - val_loss: 0.0739 - val_acc: 0.9770\n",
      "Epoch 15/20\n",
      "48000/48000 [==============================] - 17s 347us/step - loss: 0.1163 - acc: 0.9640 - val_loss: 0.0744 - val_acc: 0.9774\n",
      "Epoch 16/20\n",
      "48000/48000 [==============================] - 16s 342us/step - loss: 0.1118 - acc: 0.9649 - val_loss: 0.0709 - val_acc: 0.9795\n",
      "Epoch 17/20\n",
      "48000/48000 [==============================] - 18s 379us/step - loss: 0.1081 - acc: 0.9654 - val_loss: 0.0680 - val_acc: 0.9788\n",
      "Epoch 18/20\n",
      "48000/48000 [==============================] - 17s 348us/step - loss: 0.1016 - acc: 0.9682 - val_loss: 0.0666 - val_acc: 0.9797\n",
      "Epoch 19/20\n",
      "48000/48000 [==============================] - 18s 369us/step - loss: 0.0986 - acc: 0.9685 - val_loss: 0.0629 - val_acc: 0.9810\n",
      "Epoch 20/20\n",
      "48000/48000 [==============================] - 18s 365us/step - loss: 0.0972 - acc: 0.9694 - val_loss: 0.0705 - val_acc: 0.9775\n"
     ]
    }
   ],
   "source": [
    "model = conv((1, 28, 28), 10)\n",
    "model.summary()\n",
    "model.compile(loss = 'categorical_crossentropy', optimizer = 'adam', metrics=['accuracy'])\n",
    "\n",
    "model.fit(x_train, y_train, epochs=20, batch_size= 512, validation_split=0.2)\n",
    "\n",
    "model.save('cifarr.h5')"
   ]
  },
  {
   "cell_type": "code",
   "execution_count": 18,
   "metadata": {},
   "outputs": [
    {
     "name": "stdout",
     "output_type": "stream",
     "text": [
      "10000/10000 [==============================] - 2s 193us/step\n"
     ]
    },
    {
     "data": {
      "text/plain": [
       "[0.06556075856136158, 0.979]"
      ]
     },
     "execution_count": 18,
     "metadata": {},
     "output_type": "execute_result"
    }
   ],
   "source": [
    "model.evaluate(x_test, y_test)"
   ]
  },
  {
   "cell_type": "code",
   "execution_count": null,
   "metadata": {},
   "outputs": [],
   "source": [
    "## 97.9 % accuracy"
   ]
  }
 ],
 "metadata": {
  "kernelspec": {
   "display_name": "Python 3",
   "language": "python",
   "name": "python3"
  },
  "language_info": {
   "codemirror_mode": {
    "name": "ipython",
    "version": 3
   },
   "file_extension": ".py",
   "mimetype": "text/x-python",
   "name": "python",
   "nbconvert_exporter": "python",
   "pygments_lexer": "ipython3",
   "version": "3.6.1"
  }
 },
 "nbformat": 4,
 "nbformat_minor": 2
}
